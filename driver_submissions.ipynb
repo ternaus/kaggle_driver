{
 "metadata": {
  "name": "",
  "signature": "sha256:eaf1c65df4a07f03853014e94bdc76d23721da702f2724c508afb001d7f5e61f"
 },
 "nbformat": 3,
 "nbformat_minor": 0,
 "worksheets": [
  {
   "cells": [
    {
     "cell_type": "markdown",
     "metadata": {},
     "source": [
      "From the initial data I have prepared datasets with variables:\n",
      "* pathlength\n",
      "* triptime\n",
      "* average_speed\n",
      "* not_moving\n",
      "* percent_not moving\n",
      "* average_momentarily_speed\n",
      "* min_speed\n",
      "* max_speed\n",
      "* average_acceleration\n",
      "* max_acceleration\n",
      "* min_acceleration"
     ]
    },
    {
     "cell_type": "code",
     "collapsed": false,
     "input": [
      "#initialize libraries\n",
      "from __future__ import division\n",
      "import os\n",
      "import pandas as pd\n",
      "from sklearn.cluster import KMeans\n",
      "from multiprocessing import Pool\n",
      "import random\n",
      "import time\n",
      "from sklearn.svm import OneClassSVM"
     ],
     "language": "python",
     "metadata": {},
     "outputs": []
    },
    {
     "cell_type": "code",
     "collapsed": false,
     "input": [
      "random.seed(666)\n",
      "p = Pool(3)"
     ],
     "language": "python",
     "metadata": {},
     "outputs": []
    },
    {
     "cell_type": "code",
     "collapsed": false,
     "input": [
      "def classify(driver_data):\n",
      "    '''\n",
      "\n",
      "    It is assumed that most of the trips belong to the same driver\n",
      "\n",
      "    :param driver: driver that we need to analyze\n",
      "    :return: data frame that will tell probability that his trip belongs to this particular driver\n",
      "    '''\n",
      "\n",
      "    # gmm = mixture.GMM(n_components=2)\n",
      "    # gmm = KMeans(n_clusters=2)\n",
      "    cv = OneClassSVM()\n",
      "    data = driver_data.drop([\"driver_trip\", \n",
      "                             \"driver\", \n",
      "                             \"trip\",       \n",
      "                             \"average_speed\",\n",
      "                             \"not_moving\",\n",
      "                             \"percent_not_moving\",\n",
      "                             \"average_momentarily_speed\",\n",
      "                             \"max_speed\",\n",
      "                             \"min_speed\",                             \n",
      "                             \"average_acceleration\",\n",
      "                             \"max_acceleration\",\n",
      "                             \"min_acceleration\"], axis=1)\n",
      "    cv.fit(data)\n",
      "    predictions = cv.predict(data).tolist()\n",
      "\n",
      "    if sum(predictions + 1) / 400 < 0.5: #Here I hardcode that we have 200 trips per driver\n",
      "        predictions = map(lambda x: 1 - x, predictions)\n",
      "\n",
      "    result = pd.DataFrame()\n",
      "    result[\"driver_trip\"] = driver_data[\"driver_trip\"]    \n",
      "    result[\"prob\"] = predictions\n",
      "    return result"
     ],
     "language": "python",
     "metadata": {},
     "outputs": []
    },
    {
     "cell_type": "code",
     "collapsed": false,
     "input": [
      "def get_df(driver):\n",
      "    return pd.read_csv(os.path.join(\"data\", \"training\", str(driver)))\n",
      "\n",
      "\n",
      "data_to_work_with = p.map(get_df, os.listdir(os.path.join(\"data\", \"training\")))\n",
      "\n",
      "print \"create list of data frames with predictions\"\n",
      "result = p.map(classify, data_to_work_with)"
     ],
     "language": "python",
     "metadata": {},
     "outputs": []
    },
    {
     "cell_type": "code",
     "collapsed": false,
     "input": [
      "print \"concatenate data\"\n",
      "final_result = pd.concat(result)\n",
      "print \"done with predictions\""
     ],
     "language": "python",
     "metadata": {},
     "outputs": []
    },
    {
     "cell_type": "code",
     "collapsed": false,
     "input": [
      "print final_result.info()"
     ],
     "language": "python",
     "metadata": {},
     "outputs": []
    },
    {
     "cell_type": "code",
     "collapsed": false,
     "input": [
      "final_result.to_csv(os.path.join(\"data\", \"submission_{timestamp}\".format(timestamp=time.time())), index=False)"
     ],
     "language": "python",
     "metadata": {},
     "outputs": []
    },
    {
     "cell_type": "code",
     "collapsed": false,
     "input": [],
     "language": "python",
     "metadata": {},
     "outputs": []
    }
   ],
   "metadata": {}
  }
 ]
}